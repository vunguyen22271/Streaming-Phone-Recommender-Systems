{
 "cells": [
  {
   "cell_type": "code",
   "execution_count": null,
   "metadata": {
    "id": "VzNCjfBhB1pi"
   },
   "outputs": [],
   "source": [
    "from pyspark.sql import SparkSession\n",
    "from pyspark.sql.functions import *\n",
    "import random\n",
    "\n",
    "import time\n",
    "\n",
    "spark = SparkSession \\\n",
    "        .builder \\\n",
    "        .appName(\"Phone_Similarity\") \\\n",
    "        .master(\"local[*]\") \\\n",
    "        .getOrCreate()\n",
    "\n",
    "spark.sparkContext.setLogLevel(\"ERROR\")"
   ]
  },
  {
   "cell_type": "code",
   "execution_count": null,
   "metadata": {},
   "outputs": [],
   "source": [
    "#import phone from mongodb\n"
   ]
  },
  {
   "cell_type": "code",
   "execution_count": null,
   "metadata": {
    "colab": {
     "base_uri": "https://localhost:8080/"
    },
    "id": "lxVMjxWV78F1",
    "outputId": "e937bb4a-a7b5-4114-ab17-b390c3e376d9"
   },
   "outputs": [],
   "source": [
    "phone_data=spark.read.option(\"multiline\",\"true\").json('products.json')\n",
    "phone_data.printSchema()\n",
    "phone_data = phone_data.select('_id',\n",
    "                                'title',\n",
    "                                'category',\n",
    "                                'color',\n",
    "                                'memory',\n",
    "                                'pin',\n",
    "                                'ram',\n",
    "                                'screenSize',\n",
    "                                'status',\n",
    "                                'price')"
   ]
  },
  {
   "cell_type": "code",
   "execution_count": null,
   "metadata": {
    "colab": {
     "base_uri": "https://localhost:8080/"
    },
    "id": "Ak8d0yjo9DAe",
    "outputId": "c4084334-31bf-4bb6-f6e5-07443e0d5d86"
   },
   "outputs": [],
   "source": [
    "from pyspark.ml.feature import VectorAssembler\n",
    "phone_data.columns"
   ]
  },
  {
   "cell_type": "code",
   "execution_count": null,
   "metadata": {
    "colab": {
     "base_uri": "https://localhost:8080/"
    },
    "id": "RS0jIXeg-9gA",
    "outputId": "0f8aa3d0-af5a-424e-a7e9-12d8b72f064a"
   },
   "outputs": [],
   "source": [
    "phone_data.head(5)"
   ]
  },
  {
   "cell_type": "code",
   "execution_count": null,
   "metadata": {
    "colab": {
     "base_uri": "https://localhost:8080/"
    },
    "id": "nyTIDluavY8a",
    "outputId": "292b127c-f57f-455e-e756-6f7e0949868d"
   },
   "outputs": [],
   "source": [
    "import pyspark.sql.functions as F \n",
    "categ = phone_data.select('category').distinct().rdd.flatMap(lambda x:x).collect()\n",
    "exprs = [F.when(F.col('category') == cat,1).otherwise(0).alias(str(cat)) for cat in categ]\n",
    "phone_data = phone_data.select(exprs + phone_data.columns)\n",
    "phone_data.columns"
   ]
  },
  {
   "cell_type": "code",
   "execution_count": null,
   "metadata": {
    "colab": {
     "base_uri": "https://localhost:8080/"
    },
    "id": "KHhA83p_wDwX",
    "outputId": "24b107ef-93bf-476e-f012-60d18f99fcad"
   },
   "outputs": [],
   "source": [
    "categ = phone_data.select('color').distinct().rdd.flatMap(lambda x:x).collect()\n",
    "exprs = [F.when(F.col('color') == cat,1).otherwise(0).alias(str(cat)) for cat in categ]\n",
    "phone_data = phone_data.select(exprs + phone_data.columns)\n",
    "phone_data.columns"
   ]
  },
  {
   "cell_type": "code",
   "execution_count": null,
   "metadata": {
    "colab": {
     "base_uri": "https://localhost:8080/"
    },
    "id": "5rcqdovXwMxa",
    "outputId": "6ddc8e9f-598f-4276-ed5e-326918447c2a"
   },
   "outputs": [],
   "source": [
    "categ = phone_data.select('status').distinct().rdd.flatMap(lambda x:x).collect()\n",
    "exprs = [F.when(F.col('status') == cat,1).otherwise(0).alias(str(cat)) for cat in categ]\n",
    "phone_data = phone_data.select(exprs + phone_data.columns)\n",
    "phone_data.columns"
   ]
  },
  {
   "cell_type": "code",
   "execution_count": null,
   "metadata": {
    "colab": {
     "base_uri": "https://localhost:8080/"
    },
    "id": "0HVdRBPuAy07",
    "outputId": "67355c41-1627-4030-ec4f-ee82884c52d3"
   },
   "outputs": [],
   "source": [
    "from pyspark.sql.types import DoubleType\n",
    "changedTypedf = phone_data.withColumn(\"screenSize\", phone_data[\"screenSize\"].cast(DoubleType()))\n",
    "changedTypedf.head(5)"
   ]
  },
  {
   "cell_type": "code",
   "execution_count": null,
   "metadata": {
    "colab": {
     "base_uri": "https://localhost:8080/"
    },
    "id": "Ny67kdQw-M7-",
    "outputId": "5f8df318-dd71-441c-e689-d3112d59fa52"
   },
   "outputs": [],
   "source": [
    "assemble=VectorAssembler(inputCols=['99',\n",
    " 'New',\n",
    " 'Shiny Black',\n",
    " 'Turquoise',\n",
    " 'Silver',\n",
    " 'Green',\n",
    " 'Purple',\n",
    " 'Blue',\n",
    " 'White',\n",
    " 'Gold',\n",
    " 'Mint Green',\n",
    " 'Black',\n",
    " 'Red',\n",
    " 'Pink',\n",
    " '6194877b0327b0eef3a53fe9',\n",
    " '61947f86613ccbeacb59e5b8',\n",
    " '619487730327b0eef3a53fe4',\n",
    " '61947f8e613ccbeacb59e5bd',\n",
    " 'memory',\n",
    " 'pin',\n",
    " 'ram',\n",
    " 'screenSize',\n",
    " 'price'], outputCol='features')\n",
    "assembled_data=assemble.transform(changedTypedf)\n",
    "assembled_data.show(2)"
   ]
  },
  {
   "cell_type": "code",
   "execution_count": null,
   "metadata": {
    "colab": {
     "base_uri": "https://localhost:8080/"
    },
    "id": "3oeNI-Bm-dql",
    "outputId": "8a2f42dc-e9b3-4bce-80cc-4eac04cba2d4"
   },
   "outputs": [],
   "source": [
    "from pyspark.ml.feature import StandardScaler\n",
    "\n",
    "scale=StandardScaler(inputCol='features',outputCol='standardized')\n",
    "\n",
    "data_scale=scale.fit(assembled_data)\n",
    "data_scale_output=data_scale.transform(assembled_data)\n",
    "\n",
    "data_scale_output.show(2)"
   ]
  },
  {
   "cell_type": "code",
   "execution_count": null,
   "metadata": {
    "colab": {
     "base_uri": "https://localhost:8080/"
    },
    "id": "UZPFdcmJyklD",
    "outputId": "ced1292c-b9f3-4552-e7b0-805890cd3e7d"
   },
   "outputs": [],
   "source": [
    "data_scale_output.toPandas().columns"
   ]
  },
  {
   "cell_type": "code",
   "execution_count": null,
   "metadata": {
    "id": "3PdKFQb-Coum"
   },
   "outputs": [],
   "source": [
    "datad = data_scale_output.select('_id', 'title', 'category', 'color', 'memory', 'pin', 'ram', 'screenSize', 'status', 'price', 'standardized')\n",
    "datf = datad.toPandas()"
   ]
  },
  {
   "cell_type": "code",
   "execution_count": null,
   "metadata": {},
   "outputs": [],
   "source": [
    "datad_wi0_standard = data_scale_output.select(\n",
    " '99',\n",
    " 'New',\n",
    " 'Shiny Black',\n",
    " 'Turquoise',\n",
    " 'Silver',\n",
    " 'Green',\n",
    " 'Purple',\n",
    " 'Blue',\n",
    " 'White',\n",
    " 'Gold',\n",
    " 'Mint Green',\n",
    " 'Black',\n",
    " 'Red',\n",
    " 'Pink',\n",
    " '6194877b0327b0eef3a53fe9',\n",
    " '61947f86613ccbeacb59e5b8',\n",
    " '619487730327b0eef3a53fe4',\n",
    " '61947f8e613ccbeacb59e5bd',\n",
    " 'memory',\n",
    " 'pin',\n",
    " 'ram',\n",
    " 'screenSize',\n",
    " 'price',\n",
    " '_id', 'title', 'category', 'color', 'status', 'price')\n",
    "datf_wi0_standard = datad_wi0_standard.toPandas()"
   ]
  },
  {
   "cell_type": "code",
   "execution_count": null,
   "metadata": {
    "colab": {
     "base_uri": "https://localhost:8080/",
     "height": 206
    },
    "id": "RUaxGhHZ3pau",
    "outputId": "12c5cb2b-7f0c-4486-b3da-3b9f97537486"
   },
   "outputs": [],
   "source": [
    "datf.head(5)"
   ]
  },
  {
   "cell_type": "code",
   "execution_count": null,
   "metadata": {
    "colab": {
     "base_uri": "https://localhost:8080/"
    },
    "id": "A1uyK_p9CoHy",
    "outputId": "3628ba43-dfda-48b7-c01f-6f83f10d6aa7"
   },
   "outputs": [],
   "source": [
    "datf.iloc[0]['standardized'].toArray()"
   ]
  },
  {
   "cell_type": "code",
   "execution_count": null,
   "metadata": {
    "colab": {
     "base_uri": "https://localhost:8080/"
    },
    "id": "33WKrw-YLCoD",
    "outputId": "3f813bc9-a75f-46a4-eb73-d18a1b79eda5"
   },
   "outputs": [],
   "source": [
    "datf.iloc[1]['standardized'].toArray()"
   ]
  },
  {
   "cell_type": "code",
   "execution_count": null,
   "metadata": {
    "colab": {
     "base_uri": "https://localhost:8080/"
    },
    "id": "KD-UXYDsEtUO",
    "outputId": "31bf19df-ac49-4ffd-b69d-a25118e70d0d"
   },
   "outputs": [],
   "source": [
    "len(datf['standardized'][0].toArray())"
   ]
  },
  {
   "cell_type": "code",
   "execution_count": null,
   "metadata": {
    "colab": {
     "base_uri": "https://localhost:8080/"
    },
    "id": "6bPLOXQcI6Cp",
    "outputId": "940302e1-418d-448d-a303-6d2993332a9b"
   },
   "outputs": [],
   "source": [
    "datf.iloc[0]['standardized']"
   ]
  },
  {
   "cell_type": "code",
   "execution_count": null,
   "metadata": {
    "id": "KO7ImvXY1Lwi"
   },
   "outputs": [],
   "source": [
    "#RMSE with standard\n",
    "import numpy as np, pandas as pd\n",
    "import matplotlib.pyplot as plt, seaborn as sns\n",
    "from tqdm import tqdm\n",
    "import warnings\n",
    "warnings.filterwarnings(\"ignore\")\n",
    "\n",
    "class PhoneSimilarity():\n",
    "    def __init__(self, all_Data):\n",
    "        self.all_Data_ = all_Data\n",
    "    \n",
    "    def phone_similarity(self, phone_id, amount=1):\n",
    "        amount = amount + 1\n",
    "        distances = []\n",
    "        \n",
    "        phone = self.all_Data_[(self.all_Data_._id == phone_id)].head(1).values[0]\n",
    "        phone_row = self.all_Data_[(self.all_Data_._id == phone_id)].head(1)\n",
    "        \n",
    "        current_standardized_vector = phone[10].toArray()\n",
    "        res_data = self.all_Data_[self.all_Data_._id != phone_id]\n",
    "        countElement = 23 #23 of vector and 1 of predict\n",
    "        for r_phone in tqdm(res_data.values):\n",
    "            dist = 0\n",
    "            standardized_vector = r_phone[10].toArray()\n",
    "            for col in np.arange(23):\n",
    "                dist = dist + np.square(float(current_standardized_vector[col]) - float(standardized_vector[col]))\n",
    "            # dist = dist + np.square(float(phone[11]) - float(r_phone[11]))\n",
    "            dist = dist / countElement\n",
    "            dist = np.sqrt(dist)\n",
    "            distances.append(dist)\n",
    "        res_data['distance'] = distances\n",
    "        phone_row['distance'] = 0\n",
    "        res_data = res_data.sort_values('distance')\n",
    "        bigdata = pd.concat([phone_row, res_data], ignore_index=True, sort=False)\n",
    "        columns = ['_id', 'title', 'category', 'color', 'memory', 'pin', 'ram', 'screenSize', 'status', 'price','distance']\n",
    "        return bigdata[columns][:amount]"
   ]
  },
  {
   "cell_type": "code",
   "execution_count": null,
   "metadata": {
    "id": "faL4hPV1Q8Ux"
   },
   "outputs": [],
   "source": [
    "#euclidean\n",
    "import numpy as np, pandas as pd\n",
    "import matplotlib.pyplot as plt, seaborn as sns\n",
    "from tqdm import tqdm\n",
    "import warnings\n",
    "warnings.filterwarnings(\"ignore\")\n",
    "\n",
    "class PhoneSimilarity():\n",
    "    def __init__(self, all_Data):\n",
    "        self.all_Data_ = all_Data\n",
    "    \n",
    "    def phone_similarity(self, phone_id, amount=1):\n",
    "        amount = amount + 1\n",
    "        distances = []\n",
    "        phone = self.all_Data_[(self.all_Data_._id == phone_id)].head(1).values[0]\n",
    "        phone_row = self.all_Data_[(self.all_Data_._id == phone_id)].head(1)\n",
    "        current_standardized_vector = np.array(phone[10].toArray())\n",
    "        res_data = self.all_Data_[self.all_Data_._id != phone_id]\n",
    "        countElement = 23 #23 of vector and 1 of predict\n",
    "        for r_phone in tqdm(res_data.values):\n",
    "            dist = 0\n",
    "            standardized_vector = np.array(r_phone[10].toArray())\n",
    "            dist = np.linalg.norm(current_standardized_vector-standardized_vector)\n",
    "            distances.append(dist)\n",
    "        res_data['distance'] = distances\n",
    "        phone_row['distance'] = 0\n",
    "        res_data = res_data.sort_values('distance')\n",
    "        bigdata = pd.concat([phone_row, res_data], ignore_index=True, sort=False)\n",
    "        columns = ['_id', 'title', 'category', 'color', 'memory', 'pin', 'ram', 'screenSize', 'status', 'price','distance']\n",
    "        return bigdata[columns][:amount]"
   ]
  },
  {
   "cell_type": "code",
   "execution_count": null,
   "metadata": {
    "colab": {
     "base_uri": "https://localhost:8080/"
    },
    "id": "uNUfKjz24KhD",
    "outputId": "f089cb60-e859-4e3b-b3ec-2c4f5011be15"
   },
   "outputs": [],
   "source": [
    "#with standard\n",
    "similarity = PhoneSimilarity(datf)\n",
    "x = '61948b652d9fa1d9e7da2d3a'\n",
    "similarity_phones = similarity.phone_similarity(x, 10)"
   ]
  },
  {
   "cell_type": "code",
   "execution_count": null,
   "metadata": {},
   "outputs": [],
   "source": [
    "print(similarity_phones)"
   ]
  },
  {
   "cell_type": "code",
   "execution_count": null,
   "metadata": {},
   "outputs": [],
   "source": [
    "print(similarity_phones)"
   ]
  },
  {
   "cell_type": "code",
   "execution_count": null,
   "metadata": {},
   "outputs": [],
   "source": [
    "kafka_topic_name = \"clickcount\"\n",
    "kafka_bootstrap_servers = 'localhost:9092'\n",
    "\n",
    "# Construct a streaming DataFrame that reads from topic\n",
    "flower_df = spark \\\n",
    "        .readStream \\\n",
    "        .format(\"kafka\") \\\n",
    "        .option(\"kafka.bootstrap.servers\", kafka_bootstrap_servers) \\\n",
    "        .option(\"subscribe\", kafka_topic_name) \\\n",
    "        .option(\"startingOffsets\", \"latest\") \\\n",
    "        .load()"
   ]
  },
  {
   "cell_type": "code",
   "execution_count": null,
   "metadata": {},
   "outputs": [],
   "source": [
    "def process_row(row):\n",
    "    value = row['value'].decode(\"utf-8\")\n",
    "    first_element = value.split(',')[0]\n",
    "    similarity_phones = similarity.phone_similarity(first_element, 10)\n",
    "    print(similarity_phones)\n",
    "    pass\n",
    "query = flower_df.writeStream.foreach(process_row).start()"
   ]
  },
  {
   "cell_type": "code",
   "execution_count": null,
   "metadata": {},
   "outputs": [],
   "source": []
  }
 ],
 "metadata": {
  "colab": {
   "collapsed_sections": [],
   "name": "Phone Similarity data json.ipynb",
   "provenance": []
  },
  "kernelspec": {
   "display_name": "Python 3",
   "language": "python",
   "name": "python3"
  },
  "language_info": {
   "codemirror_mode": {
    "name": "ipython",
    "version": 3
   },
   "file_extension": ".py",
   "mimetype": "text/x-python",
   "name": "python",
   "nbconvert_exporter": "python",
   "pygments_lexer": "ipython3",
   "version": "3.6.8"
  }
 },
 "nbformat": 4,
 "nbformat_minor": 1
}
